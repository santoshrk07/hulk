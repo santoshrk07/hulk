{
 "cells": [
  {
   "cell_type": "code",
   "execution_count": null,
   "id": "eae43135-b108-49e5-a436-c45f0a608b05",
   "metadata": {},
   "outputs": [],
   "source": [
    "Exercise 2: Create markdown cell with title of the notebook\n",
    "\n"
   ]
  },
  {
   "cell_type": "markdown",
   "id": "eb833215-9fc4-4e59-9bb0-e66469202341",
   "metadata": {},
   "source": [
    "# Data Science Tools and Ecosystem "
   ]
  },
  {
   "cell_type": "code",
   "execution_count": null,
   "id": "827d713b-b26e-4be4-b4af-d46987cc78c5",
   "metadata": {},
   "outputs": [],
   "source": [
    "Exercise 3 - Create a markdown cell for an introduction\n",
    "\n"
   ]
  },
  {
   "cell_type": "markdown",
   "id": "cc33d522-da47-448a-90bc-97ecc0ba04e9",
   "metadata": {},
   "source": [
    "# In this notebook, Data Science Tools and Ecosystem are summarized.\n",
    "\n"
   ]
  },
  {
   "cell_type": "code",
   "execution_count": null,
   "id": "b4436740-1cd7-466f-88f5-264784c732fe",
   "metadata": {},
   "outputs": [],
   "source": [
    "Exercise 10 - Insert a markdown cell to list Objectives\n",
    "\n"
   ]
  },
  {
   "cell_type": "markdown",
   "id": "32460d06-2b10-4b56-935f-51591ab63ea8",
   "metadata": {},
   "source": [
    "# *Objectives*\n",
    "- List popular languages for Data Science\n",
    "- Some of the commonly used libraries used by Data Scientists \n",
    "- Some of the popular languages that Data Scientists use \n"
   ]
  },
  {
   "cell_type": "code",
   "execution_count": null,
   "id": "ed6ccab7-55f4-46e1-9536-b10f6209e9dd",
   "metadata": {},
   "outputs": [],
   "source": [
    "Exercise 4 - Create a markdown cell to list data science languages\n",
    "\n"
   ]
  },
  {
   "cell_type": "markdown",
   "id": "9c49fe7e-db3e-45cc-b43f-bc27a6525b24",
   "metadata": {},
   "source": [
    "# Some of the popular languages that Data Scientists use are:\n",
    "1. Python\n",
    "2. Sql\n",
    "3. R"
   ]
  },
  {
   "cell_type": "code",
   "execution_count": null,
   "id": "5b57d30b-ee05-4ace-b51b-36dabc074f6e",
   "metadata": {},
   "outputs": [],
   "source": [
    "Exercise 5 - Create a markdown cell to list data science libraries\n",
    "\n"
   ]
  },
  {
   "cell_type": "markdown",
   "id": "19b2f9b2-0bcc-4cab-8674-d37c437b4187",
   "metadata": {},
   "source": [
    "Some of the commonly used libraries used by Data Scientists include: \n",
    "1. Matplotlib\n",
    "2. Pandas\n",
    "3. Numpy\n",
    "\n"
   ]
  },
  {
   "cell_type": "code",
   "execution_count": null,
   "id": "903d7c9e-5e64-40de-9b74-5e49e063e683",
   "metadata": {},
   "outputs": [],
   "source": [
    "Exercise 6 - Create a markdown cell with a table of Data Science tools\n",
    "\n"
   ]
  },
  {
   "cell_type": "markdown",
   "id": "110e28b2-82f6-4115-94ed-85d480e3c243",
   "metadata": {},
   "source": [
    "| Data Science Tools |\n",
    "| ------------------ |\n",
    "| Apache Spark |\n",
    "| Jupyter Notebook |\n",
    "| Tensorflow |"
   ]
  },
  {
   "cell_type": "code",
   "execution_count": null,
   "id": "0ac0656c-cc97-407d-b02f-2fca1316d43e",
   "metadata": {},
   "outputs": [],
   "source": [
    "Exercise 7 - Create a markdown cell introducing arithmetic expression examples\n",
    "\n"
   ]
  },
  {
   "cell_type": "markdown",
   "id": "5c5b108b-0874-4d10-8c8b-641604d0efdb",
   "metadata": {},
   "source": [
    "### Below are a few examples of evaluating arithmetic expressions in Python.\n"
   ]
  },
  {
   "cell_type": "code",
   "execution_count": null,
   "id": "7651deda-b7c2-4af8-a4f3-051abce9b7a9",
   "metadata": {},
   "outputs": [],
   "source": [
    "Exercise 8 - Create a code cell to multiply and add numbers\n",
    "\n"
   ]
  },
  {
   "cell_type": "code",
   "execution_count": 1,
   "id": "0388da72-c51a-4c19-9cca-2140a03f1f8f",
   "metadata": {},
   "outputs": [
    {
     "data": {
      "text/plain": [
       "17"
      ]
     },
     "execution_count": 1,
     "metadata": {},
     "output_type": "execute_result"
    }
   ],
   "source": [
    "# This a simple arithmetic expression to mutiply then add integers.\n",
    "(3*4)+5"
   ]
  },
  {
   "cell_type": "code",
   "execution_count": null,
   "id": "ce247865-eeed-40e0-9622-bcdcd3b386b0",
   "metadata": {},
   "outputs": [],
   "source": [
    "Exercise 9 - Create a code cell to convert minutes to hours\n",
    "\n"
   ]
  },
  {
   "cell_type": "code",
   "execution_count": 2,
   "id": "f42ca48b-7705-42fd-a0a8-bc374e5dae97",
   "metadata": {},
   "outputs": [
    {
     "data": {
      "text/plain": [
       "3.3333333333333335"
      ]
     },
     "execution_count": 2,
     "metadata": {},
     "output_type": "execute_result"
    }
   ],
   "source": [
    "# This will convert 200 minutes to hours by diving by 60.\n",
    "200/60"
   ]
  },
  {
   "cell_type": "code",
   "execution_count": null,
   "id": "24e99576-f2e6-4e76-ac3f-3bd864495568",
   "metadata": {},
   "outputs": [],
   "source": [
    "Exercise 11 - Create a markdown cell to indicate the Author's name\n",
    "\n"
   ]
  },
  {
   "cell_type": "markdown",
   "id": "1af1ee1b-67a6-4ff0-b8c2-e86311e2718e",
   "metadata": {},
   "source": [
    "## : Author \n",
    "santosh"
   ]
  },
  {
   "cell_type": "code",
   "execution_count": null,
   "id": "46cada91-56b7-4c65-94ae-5ac470814338",
   "metadata": {},
   "outputs": [],
   "source": []
  }
 ],
 "metadata": {
  "kernelspec": {
   "display_name": "Python 3 (ipykernel)",
   "language": "python",
   "name": "python3"
  },
  "language_info": {
   "codemirror_mode": {
    "name": "ipython",
    "version": 3
   },
   "file_extension": ".py",
   "mimetype": "text/x-python",
   "name": "python",
   "nbconvert_exporter": "python",
   "pygments_lexer": "ipython3",
   "version": "3.11.9"
  }
 },
 "nbformat": 4,
 "nbformat_minor": 5
}
